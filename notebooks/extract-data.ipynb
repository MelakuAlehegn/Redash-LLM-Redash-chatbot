{
 "cells": [
  {
   "cell_type": "code",
   "execution_count": 5,
   "metadata": {},
   "outputs": [
    {
     "name": "stdout",
     "output_type": "stream",
     "text": [
      "Extraction completed.\n"
     ]
    }
   ],
   "source": [
    "import os\n",
    "import zipfile\n",
    "\n",
    "# Define the path to the Zipped-Data folder\n",
    "zipped_data_path = os.path.join('..', 'data', 'Zipped-Data')\n",
    "\n",
    "# Ensure the Zipped-Data folder exists\n",
    "if not os.path.exists(zipped_data_path):\n",
    "    print(\"Zipped-Data folder does not exist.\")\n",
    "else:\n",
    "    # Iterate over all files in the Zipped-Data folder\n",
    "    for filename in os.listdir(zipped_data_path):\n",
    "        if filename.endswith('.zip'):\n",
    "            # Construct full file path\n",
    "            zip_file_path = os.path.join(zipped_data_path, filename)\n",
    "            \n",
    "            # Define the path to the new folder for this zipped file\n",
    "            extracted_folder_path = os.path.join('..', 'data', 'Extracted-Data', filename[:-4]) # Remove the .zip extension\n",
    "            \n",
    "            # Ensure the new folder exists, if not, create it\n",
    "            if not os.path.exists(extracted_folder_path):\n",
    "                os.makedirs(extracted_folder_path)\n",
    "            \n",
    "            # Extract the zip file to the new folder\n",
    "            with zipfile.ZipFile(zip_file_path, 'r') as zip_ref:\n",
    "                zip_ref.extractall(extracted_folder_path)\n",
    "\n",
    "    print(\"Extraction completed.\")"
   ]
  },
  {
   "cell_type": "code",
   "execution_count": 4,
   "metadata": {},
   "outputs": [
    {
     "name": "stdout",
     "output_type": "stream",
     "text": [
      "Combined schema saved to: ../data/Schema/schema.sql\n",
      "Schema generation completed.\n"
     ]
    }
   ],
   "source": [
    "import os\n",
    "import pandas as pd\n",
    "\n",
    "# Define the path to the Extracted-Data folder\n",
    "extracted_data_path = os.path.join('..', 'data', 'Extracted-Data')\n",
    "\n",
    "# Define the path to the Schema folder\n",
    "schema_folder_path = os.path.join('..', 'data', 'Schema')\n",
    "\n",
    "# Ensure the Schema folder exists, if not, create it\n",
    "if not os.path.exists(schema_folder_path):\n",
    "    os.makedirs(schema_folder_path)\n",
    "\n",
    "# Define the path to the schema.sql file\n",
    "schema_file_path = os.path.join(schema_folder_path, 'schema.sql')\n",
    "\n",
    "# Initialize an empty string to hold the SQL schema for all tables\n",
    "all_schemas = \"\"\n",
    "\n",
    "# Iterate over all folders in the Extracted-Data folder\n",
    "for folder_name in os.listdir(extracted_data_path):\n",
    "    folder_path = os.path.join(extracted_data_path, folder_name)\n",
    "    if os.path.isdir(folder_path):\n",
    "        # Construct the path to the Chart Data.csv file\n",
    "        csv_file_path = os.path.join(folder_path, 'Chart Data.csv')\n",
    "        \n",
    "        # Check if the file exists\n",
    "        if os.path.exists(csv_file_path):\n",
    "            # Read the CSV file\n",
    "            df = pd.read_csv(csv_file_path)\n",
    "            print(f\"Read CSV file: {csv_file_path}\") # Debugging statement\n",
    "            \n",
    "            # Initialize an empty DataFrame to hold the schema for this CSV\n",
    "            schema_df = pd.DataFrame(columns=['Column Name', 'Data Type'])\n",
    "            \n",
    "            # Infer the schema\n",
    "            for column in df.columns:\n",
    "                # Get the data type of the column\n",
    "                data_type = df[column].dtype\n",
    "                \n",
    "                # Append the column name and data type to the schema DataFrame\n",
    "                schema_df = schema_df.append({'Column Name': column, 'Data Type': str(data_type)}, ignore_index=True)\n",
    "            \n",
    "            # Check if the schema DataFrame is empty\n",
    "            if schema_df.empty:\n",
    "                print(f\"Schema DataFrame is empty for: {csv_file_path}\") # Debugging statement\n",
    "                continue\n",
    "            \n",
    "            # Generate the SQL schema for this table\n",
    "            table_name = folder_name  # Use the folder name as the table name\n",
    "            sql_schema = f\"CREATE TABLE {table_name} (\\n\"\n",
    "            for index, row in schema_df.iterrows():\n",
    "                sql_schema += f\"    {row['Column Name']} {row['Data Type']},\\n\"\n",
    "            sql_schema = sql_schema.rstrip(\",\\n\") + \"\\n);\"\n",
    "            \n",
    "            # Append the SQL schema to the all_schemas string\n",
    "            all_schemas += sql_schema + \"\\n\\n\"  # Add two newlines for separation between tables\n",
    "\n",
    "# Write the combined SQL schema to the schema.sql file\n",
    "try:\n",
    "    with open(schema_file_path, 'w') as file:\n",
    "        file.write(all_schemas)\n",
    "    print(f\"Combined schema saved to: {schema_file_path}\") # Debugging statement\n",
    "except Exception as e:\n",
    "    print(f\"Failed to save combined schema to {schema_file_path}: {e}\") # Debugging statement\n",
    "\n",
    "print(\"Schema generation completed.\")"
   ]
  }
 ],
 "metadata": {
  "kernelspec": {
   "display_name": "Python 3",
   "language": "python",
   "name": "python3"
  },
  "language_info": {
   "codemirror_mode": {
    "name": "ipython",
    "version": 3
   },
   "file_extension": ".py",
   "mimetype": "text/x-python",
   "name": "python",
   "nbconvert_exporter": "python",
   "pygments_lexer": "ipython3",
   "version": "3.10.12"
  }
 },
 "nbformat": 4,
 "nbformat_minor": 2
}
